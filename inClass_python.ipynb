{
 "cells": [
  {
   "cell_type": "code",
   "execution_count": 2,
   "metadata": {
    "collapsed": true
   },
   "outputs": [],
   "source": [
    "import statistics as stats"
   ]
  },
  {
   "cell_type": "code",
   "execution_count": 3,
   "metadata": {
    "collapsed": false
   },
   "outputs": [
    {
     "name": "stdout",
     "output_type": "stream",
     "text": [
      "    No   GPA  Years of work experience  Latest salary (per year)  \\\n",
      "0    1  3.50                       2.5                     45000   \n",
      "1    3  3.80                       1.0                     65000   \n",
      "2    4  3.80                       2.0                     85000   \n",
      "3    5  3.41                       1.5                     10000   \n",
      "4    6  3.33                       5.0                     70000   \n",
      "5    7  3.52                       2.5                     27000   \n",
      "6    8  3.50                       2.0                     40000   \n",
      "7    9  3.50                       5.0                     75000   \n",
      "8   10  3.60                       2.5                     65000   \n",
      "9   11  3.20                       4.0                     62000   \n",
      "10  12  3.50                       2.0                     60000   \n",
      "11  13  3.67                       1.8                     60000   \n",
      "12  14  3.50                       2.0                     60000   \n",
      "13  15  3.47                       2.5                     70000   \n",
      "14  16  3.06                       1.3                     40000   \n",
      "15  17  3.27                       2.0                     60000   \n",
      "16  18  3.53                       4.0                     50000   \n",
      "17  19  4.00                       4.0                     50000   \n",
      "18  20  3.40                       1.0                     30000   \n",
      "19  21  3.54                       1.0                     40000   \n",
      "20  22  3.50                       2.0                     75000   \n",
      "21  23  3.50                       4.0                     50000   \n",
      "22  24  3.40                       3.0                     50000   \n",
      "23  26  3.30                       4.0                     65000   \n",
      "24  27  3.90                       6.0                     90000   \n",
      "25  28  3.17                       1.0                     50000   \n",
      "26  29  3.48                       3.5                     60000   \n",
      "27  30  3.93                       4.0                     43000   \n",
      "28  31  3.43                       4.0                     60000   \n",
      "29  32  3.33                       5.0                      5000   \n",
      "30  33  3.60                       1.5                     60000   \n",
      "31  34  3.80                       3.0                     65000   \n",
      "32  35  3.50                       3.0                     65000   \n",
      "33  36  3.39                       2.0                     60000   \n",
      "\n",
      "    Highest GPA   Lowest GPA Coops/Internships (YN)  \\\n",
      "0           3.50        3.50                      N   \n",
      "1           3.60        3.00                      Y   \n",
      "2           4.00        3.60                      Y   \n",
      "3           3.41        3.33                      N   \n",
      "4           3.67        3.00                      Y   \n",
      "5           3.58        3.52                      N   \n",
      "6           3.70        3.30                      N   \n",
      "7           3.53        3.30                      Y   \n",
      "8           3.90        3.10                      Y   \n",
      "9           3.80        3.00                      N   \n",
      "10          3.50        3.50                      N   \n",
      "11          4.00        3.00                      N   \n",
      "12          3.70        3.30                      Y   \n",
      "13          3.64        3.37                      Y   \n",
      "14          3.64        2.67                      Y   \n",
      "15          4.00        3.00                      Y   \n",
      "16          4.00        3.30                      N   \n",
      "17          4.00        4.00                      Y   \n",
      "18          3.60        3.10                      N   \n",
      "19          4.00        3.42                      Y   \n",
      "20          4.00        3.00                      Y   \n",
      "21          3.80        3.20                      Y   \n",
      "22          3.80        3.20                      Y   \n",
      "23          4.00        3.65                      Y   \n",
      "24          4.00        3.80                      Y   \n",
      "25          3.30        3.00                      N   \n",
      "26          4.00        3.33                      Y   \n",
      "27          4.00        3.28                      Y   \n",
      "28          3.50        3.30                      Y   \n",
      "29          3.66        3.00                      Y   \n",
      "30          3.70        3.40                      Y   \n",
      "31          3.80        3.50                      Y   \n",
      "32          4.00        3.60                      Y   \n",
      "33          3.80        3.20                      Y   \n",
      "\n",
      "    Number of contacts on Linkedin  Expected Salary after graduation  \n",
      "0                              250                             90000  \n",
      "1                              400                            100000  \n",
      "2                              500                             90000  \n",
      "3                              365                            100000  \n",
      "4                              400                            100000  \n",
      "5                              230                             85000  \n",
      "6                              250                             90000  \n",
      "7                              260                            100000  \n",
      "8                              250                            110000  \n",
      "9                              525                            105000  \n",
      "10                             400                             85000  \n",
      "11                             920                            140000  \n",
      "12                             300                             90000  \n",
      "13                             310                             95000  \n",
      "14                             550                            120000  \n",
      "15                             350                            100000  \n",
      "16                             600                             88000  \n",
      "17                             500                            130000  \n",
      "18                             500                             80000  \n",
      "19                             650                             95000  \n",
      "20                             515                             80000  \n",
      "21                             350                            110000  \n",
      "22                             301                             90000  \n",
      "23                             700                            100000  \n",
      "24                             809                            120000  \n",
      "25                             258                            100000  \n",
      "26                             350                            100000  \n",
      "27                             900                            100000  \n",
      "28                             220                            110000  \n",
      "29                             183                            100000  \n",
      "30                             340                            100000  \n",
      "31                             800                             80000  \n",
      "32                             400                             80000  \n",
      "33                             500                             90000  \n"
     ]
    }
   ],
   "source": [
    "import pandas as panda\n",
    "data=panda.read_csv('C:/ADS-R/ClassData.csv')\n",
    "print(data)"
   ]
  },
  {
   "cell_type": "code",
   "execution_count": 14,
   "metadata": {
    "collapsed": false
   },
   "outputs": [
    {
     "name": "stdout",
     "output_type": "stream",
     "text": [
      "3.06\n",
      "4.0\n",
      "3.50970588235\n",
      "3.5\n"
     ]
    }
   ],
   "source": [
    "print(min(data['GPA']))\n",
    "print(max(data['GPA']))\n",
    "print(stats.mean(data['GPA']))\n",
    "print(stats.median(data['GPA']))"
   ]
  },
  {
   "cell_type": "code",
   "execution_count": 15,
   "metadata": {
    "collapsed": false
   },
   "outputs": [
    {
     "name": "stdout",
     "output_type": "stream",
     "text": [
      "1.0\n",
      "6.0\n",
      "2.81176470588\n",
      "2.5\n"
     ]
    }
   ],
   "source": [
    "print(min(data['Years of work experience']))\n",
    "print(max(data['Years of work experience']))\n",
    "print(stats.mean(data['Years of work experience']))\n",
    "print(stats.median(data['Years of work experience']))"
   ]
  },
  {
   "cell_type": "code",
   "execution_count": 16,
   "metadata": {
    "collapsed": false
   },
   "outputs": [
    {
     "name": "stdout",
     "output_type": "stream",
     "text": [
      "60000\n"
     ]
    }
   ],
   "source": [
    "print(stats.mode(data['Latest salary (per year)']))"
   ]
  },
  {
   "cell_type": "code",
   "execution_count": 27,
   "metadata": {
    "collapsed": false
   },
   "outputs": [
    {
     "name": "stdout",
     "output_type": "stream",
     "text": [
      "70.5882352941\n"
     ]
    }
   ],
   "source": [
    "NoOfY=(data['Coops/Internships (YN)'] == 'Y').sum()\n",
    "percentageOfY=NoOfY*100/len(data['Coops/Internships (YN)'])\n",
    "print(percentageOfY)"
   ]
  },
  {
   "cell_type": "code",
   "execution_count": 28,
   "metadata": {
    "collapsed": false
   },
   "outputs": [
    {
     "name": "stdout",
     "output_type": "stream",
     "text": [
      "29.4117647059\n"
     ]
    }
   ],
   "source": [
    "NoOfN=(data['Coops/Internships (YN)'] == 'N').sum()\n",
    "percentageOfN=NoOfN*100/len(data['Coops/Internships (YN)'])\n",
    "print(percentageOfN)"
   ]
  },
  {
   "cell_type": "code",
   "execution_count": 30,
   "metadata": {
    "collapsed": false
   },
   "outputs": [
    {
     "name": "stdout",
     "output_type": "stream",
     "text": [
      "10\n"
     ]
    }
   ],
   "source": [
    "greaterConnections=(data['Number of contacts on Linkedin'] > 500).sum()\n",
    "print(greaterConnections)"
   ]
  },
  {
   "cell_type": "code",
   "execution_count": 35,
   "metadata": {
    "collapsed": false
   },
   "outputs": [
    {
     "name": "stdout",
     "output_type": "stream",
     "text": [
      "10000.0\n"
     ]
    }
   ],
   "source": [
    "import numpy as np\n",
    "iqr = np.subtract(*np.percentile(data['Expected Salary after graduation'], [75, 25]))\n",
    "print(iqr)"
   ]
  },
  {
   "cell_type": "code",
   "execution_count": null,
   "metadata": {
    "collapsed": true
   },
   "outputs": [],
   "source": []
  }
 ],
 "metadata": {
  "kernelspec": {
   "display_name": "Python 3",
   "language": "python",
   "name": "python3"
  },
  "language_info": {
   "codemirror_mode": {
    "name": "ipython",
    "version": 3
   },
   "file_extension": ".py",
   "mimetype": "text/x-python",
   "name": "python",
   "nbconvert_exporter": "python",
   "pygments_lexer": "ipython3",
   "version": "3.6.0"
  }
 },
 "nbformat": 4,
 "nbformat_minor": 2
}
